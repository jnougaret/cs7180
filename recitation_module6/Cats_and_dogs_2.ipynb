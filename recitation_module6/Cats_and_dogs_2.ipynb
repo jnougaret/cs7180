{
  "nbformat": 4,
  "nbformat_minor": 0,
  "metadata": {
    "colab": {
      "name": "Cats_and_dogs_2.ipynb",
      "provenance": [],
      "collapsed_sections": []
    },
    "kernelspec": {
      "name": "python3",
      "display_name": "Python 3"
    },
    "accelerator": "GPU"
  },
  "cells": [
    {
      "cell_type": "markdown",
      "metadata": {
        "id": "hlYkE45yrUka",
        "colab_type": "text"
      },
      "source": [
        "# Avant toute chose ... \n",
        "\n",
        "Colab nous autorise à utiliser des ressources distribuées, mais ne nous mets pas par défaut sur l'option la plus performante. A partir de ce notebook, nous allons réaliser des modèles plus complexes qui demandent une grande capacité computationnelle. \n",
        "\n",
        "Afin de profiter de meilleures performances : aller dans l'onglet **Runtime** -> **change runtime type** (en français : **Execution** -> **changer le type d'execution**)  et sélectionner l'option **GPU** pour **hardware accelerator**\n",
        "\n",
        "( Normalement automatique à l'utilisation de ce notebook, mais mieux vaut vérifier avant) \n",
        "\n",
        "# Reprenons ! \n",
        "Commençons par recharger les données et reformater ces dernières de la même manière que précedemment : \n",
        "\n"
      ]
    },
    {
      "cell_type": "code",
      "metadata": {
        "id": "enreg5gY82At",
        "colab_type": "code",
        "outputId": "40324421-87db-4665-9d35-d33726c773f5",
        "colab": {
          "base_uri": "https://localhost:8080/",
          "height": 219
        }
      },
      "source": [
        "!wget --no-check-certificate \\\n",
        "    https://storage.googleapis.com/mledu-datasets/cats_and_dogs_filtered.zip \\\n",
        "    -O /tmp/cats_and_dogs_filtered.zip"
      ],
      "execution_count": 1,
      "outputs": [
        {
          "output_type": "stream",
          "text": [
            "--2019-11-17 23:20:27--  https://storage.googleapis.com/mledu-datasets/cats_and_dogs_filtered.zip\n",
            "Resolving storage.googleapis.com (storage.googleapis.com)... 74.125.142.128, 2607:f8b0:400e:c07::80\n",
            "Connecting to storage.googleapis.com (storage.googleapis.com)|74.125.142.128|:443... connected.\n",
            "HTTP request sent, awaiting response... 200 OK\n",
            "Length: 68606236 (65M) [application/zip]\n",
            "Saving to: ‘/tmp/cats_and_dogs_filtered.zip’\n",
            "\n",
            "/tmp/cats_and_dogs_ 100%[===================>]  65.43M  90.0MB/s    in 0.7s    \n",
            "\n",
            "2019-11-17 23:20:28 (90.0 MB/s) - ‘/tmp/cats_and_dogs_filtered.zip’ saved [68606236/68606236]\n",
            "\n"
          ],
          "name": "stdout"
        }
      ]
    },
    {
      "cell_type": "code",
      "metadata": {
        "id": "NImAv1_n87le",
        "colab_type": "code",
        "colab": {}
      },
      "source": [
        "import os\n",
        "import zipfile\n",
        "\n",
        "local_zip = '/tmp/cats_and_dogs_filtered.zip'\n",
        "zip_ref = zipfile.ZipFile(local_zip, 'r')\n",
        "zip_ref.extractall('/tmp')\n",
        "zip_ref.close()"
      ],
      "execution_count": 0,
      "outputs": []
    },
    {
      "cell_type": "code",
      "metadata": {
        "id": "vlAp4KDI89tD",
        "colab_type": "code",
        "colab": {}
      },
      "source": [
        "base_dir = '/tmp/cats_and_dogs_filtered'\n",
        "train_dir = os.path.join(base_dir, 'train')\n",
        "validation_dir = os.path.join(base_dir, 'validation')\n",
        "\n",
        "# Directory with our training cat pictures\n",
        "train_cats_dir = os.path.join(train_dir, 'cats')\n",
        "\n",
        "# Directory with our training dog pictures\n",
        "train_dogs_dir = os.path.join(train_dir, 'dogs')\n",
        "\n",
        "# Directory with our validation cat pictures\n",
        "validation_cats_dir = os.path.join(validation_dir, 'cats')\n",
        "\n",
        "# Directory with our validation dog pictures\n",
        "validation_dogs_dir = os.path.join(validation_dir, 'dogs')"
      ],
      "execution_count": 0,
      "outputs": []
    },
    {
      "cell_type": "code",
      "metadata": {
        "id": "tVs_Q7N8AkO8",
        "colab_type": "code",
        "outputId": "47d3d6fa-9b1e-4b84-a5f5-7948b6ced9b2",
        "colab": {
          "base_uri": "https://localhost:8080/",
          "height": 101
        }
      },
      "source": [
        "from tensorflow.keras.preprocessing.image import ImageDataGenerator\n",
        "\n",
        "# All images will be rescaled by 1./255\n",
        "train_datagen = ImageDataGenerator(rescale=1./255)\n",
        "val_datagen = ImageDataGenerator(rescale=1./255)\n",
        "\n",
        "\n",
        "train_generator = train_datagen.flow_from_directory(\n",
        "        train_dir,  \n",
        "        target_size=(150, 150),  \n",
        "        batch_size=20,\n",
        "        class_mode='binary')\n",
        "\n",
        "# Flow validation images in batches of 20 using val_datagen generator\n",
        "validation_generator = val_datagen.flow_from_directory(\n",
        "        validation_dir,\n",
        "        target_size=(150, 150),\n",
        "        batch_size=20,\n",
        "        class_mode='binary')"
      ],
      "execution_count": 4,
      "outputs": [
        {
          "output_type": "display_data",
          "data": {
            "text/html": [
              "<p style=\"color: red;\">\n",
              "The default version of TensorFlow in Colab will soon switch to TensorFlow 2.x.<br>\n",
              "We recommend you <a href=\"https://www.tensorflow.org/guide/migrate\" target=\"_blank\">upgrade</a> now \n",
              "or ensure your notebook will continue to use TensorFlow 1.x via the <code>%tensorflow_version 1.x</code> magic:\n",
              "<a href=\"https://colab.research.google.com/notebooks/tensorflow_version.ipynb\" target=\"_blank\">more info</a>.</p>\n"
            ],
            "text/plain": [
              "<IPython.core.display.HTML object>"
            ]
          },
          "metadata": {
            "tags": []
          }
        },
        {
          "output_type": "stream",
          "text": [
            "Found 2000 images belonging to 2 classes.\n",
            "Found 1000 images belonging to 2 classes.\n"
          ],
          "name": "stdout"
        }
      ]
    },
    {
      "cell_type": "markdown",
      "metadata": {
        "id": "MEtkuFgOsyHE",
        "colab_type": "text"
      },
      "source": [
        "# Le réseau de convolution \n",
        "\n",
        "Il existe d'autres types de réseaux de neurones que les réseaux denses. En connectant les couches d'une manière différente ou en utilisant des mécanismes de retenue d'information, il est possible de construire des modèles plus adaptés à certaines formes de données (suites temporelles, informations spatiales globales ou locales, etc ... )\n",
        "\n",
        "Un exemple de ces types de réseaux est le réseau de convolution. Ces réseaux sont très utilisés dans le traitement d'image et dans la recherche d'information spatiale. Ils agissent comme des filtres de recherche d'éléments à forte valeur visuelle (coin, bordures, contours, ...) qui sont de plus en plus complexes au fur et à mesure que l'on rajoute des couches. \n",
        "\n",
        "Prenons en exemple le réseau de convolution suivant : \n",
        "\n"
      ]
    },
    {
      "cell_type": "code",
      "metadata": {
        "id": "QDsSiOLqswRJ",
        "colab_type": "code",
        "outputId": "7602b9f7-0cb8-4108-ae13-dba96d4c758e",
        "colab": {
          "base_uri": "https://localhost:8080/",
          "height": 1000
        }
      },
      "source": [
        "# Paramètres modifiables \n",
        "epochs = 15\n",
        "nodes = 128 \n",
        "from tensorflow.keras.optimizers import RMSprop\n",
        "import keras\n",
        "import matplotlib.pyplot as plt \n",
        "from keras import models \n",
        "from keras import layers \n",
        "\n",
        "\n",
        "\n",
        "conv_model = models.Sequential()\n",
        "conv_model.add(layers.Conv2D(16,3,activation='relu',input_shape=(150,150,3)))\n",
        "conv_model.add(layers.MaxPooling2D(2))\n",
        "conv_model.add(layers.Flatten())\n",
        "conv_model.add(layers.Dense(1,activation='sigmoid'))\n",
        "\n",
        "conv_model.summary()\n",
        "conv_model.compile(loss='binary_crossentropy',\n",
        "              optimizer='rmsprop',\n",
        "              metrics=['acc'])\n",
        "\n",
        "\n",
        "history = conv_model.fit_generator(\n",
        "      train_generator,\n",
        "      steps_per_epoch=100,  # 2000 images = batch_size * steps\n",
        "      epochs=epochs,\n",
        "      validation_data=validation_generator,\n",
        "      validation_steps=50,  # 1000 images = batch_size * steps\n",
        "      verbose=2)\n",
        "\n",
        "history_dict = history.history \n",
        "loss_values = history_dict['loss']\n",
        "val_loss_values = history_dict['val_loss']\n",
        "acc_values = history_dict['acc']\n",
        "val_acc_values = history_dict['val_acc']\n",
        "plt.rcParams['figure.figsize'] = (16,8) # Make the figures a bit bigger\n",
        "fig,(ax1,ax2,) = plt.subplots(1,2)\n",
        "\n",
        "x = range(1,epochs+1)\n",
        "ax1.plot(x,loss_values,'bo',label='Training Loss')\n",
        "ax1.plot(x,val_loss_values,'ro',label='Validation Loss')\n",
        "ax1.set_title('Training and Validation loss ')\n",
        "ax1.set_xlabel('Epochs')\n",
        "ax1.set_ylabel('Loss')\n",
        "ax1.legend()\n",
        "\n",
        "\n",
        "ax2.plot(x,acc_values,'bo',label='Training Accuracy')\n",
        "ax2.plot(x,val_acc_values,'ro',label='Validation Accuracy')\n",
        "ax2.set_title('Training and Validation accuracy ')\n",
        "ax2.set_xlabel('Epochs')\n",
        "ax2.set_ylabel('Accuracy')\n",
        "ax2.legend()\n",
        "\n",
        "plt.show()"
      ],
      "execution_count": 5,
      "outputs": [
        {
          "output_type": "stream",
          "text": [
            "WARNING:tensorflow:From /usr/local/lib/python3.6/dist-packages/keras/backend/tensorflow_backend.py:66: The name tf.get_default_graph is deprecated. Please use tf.compat.v1.get_default_graph instead.\n",
            "\n",
            "WARNING:tensorflow:From /usr/local/lib/python3.6/dist-packages/keras/backend/tensorflow_backend.py:541: The name tf.placeholder is deprecated. Please use tf.compat.v1.placeholder instead.\n",
            "\n",
            "WARNING:tensorflow:From /usr/local/lib/python3.6/dist-packages/keras/backend/tensorflow_backend.py:4432: The name tf.random_uniform is deprecated. Please use tf.random.uniform instead.\n",
            "\n",
            "WARNING:tensorflow:From /usr/local/lib/python3.6/dist-packages/keras/backend/tensorflow_backend.py:4267: The name tf.nn.max_pool is deprecated. Please use tf.nn.max_pool2d instead.\n",
            "\n",
            "Model: \"sequential_1\"\n",
            "_________________________________________________________________\n",
            "Layer (type)                 Output Shape              Param #   \n",
            "=================================================================\n",
            "conv2d_1 (Conv2D)            (None, 148, 148, 16)      448       \n",
            "_________________________________________________________________\n",
            "max_pooling2d_1 (MaxPooling2 (None, 74, 74, 16)        0         \n",
            "_________________________________________________________________\n",
            "flatten_1 (Flatten)          (None, 87616)             0         \n",
            "_________________________________________________________________\n",
            "dense_1 (Dense)              (None, 1)                 87617     \n",
            "=================================================================\n",
            "Total params: 88,065\n",
            "Trainable params: 88,065\n",
            "Non-trainable params: 0\n",
            "_________________________________________________________________\n",
            "WARNING:tensorflow:From /usr/local/lib/python3.6/dist-packages/keras/optimizers.py:793: The name tf.train.Optimizer is deprecated. Please use tf.compat.v1.train.Optimizer instead.\n",
            "\n",
            "WARNING:tensorflow:From /usr/local/lib/python3.6/dist-packages/keras/backend/tensorflow_backend.py:3657: The name tf.log is deprecated. Please use tf.math.log instead.\n",
            "\n",
            "WARNING:tensorflow:From /usr/local/lib/python3.6/dist-packages/tensorflow_core/python/ops/nn_impl.py:183: where (from tensorflow.python.ops.array_ops) is deprecated and will be removed in a future version.\n",
            "Instructions for updating:\n",
            "Use tf.where in 2.0, which has the same broadcast rule as np.where\n"
          ],
          "name": "stdout"
        },
        {
          "output_type": "stream",
          "text": [
            "Using TensorFlow backend.\n"
          ],
          "name": "stderr"
        },
        {
          "output_type": "stream",
          "text": [
            "WARNING:tensorflow:From /usr/local/lib/python3.6/dist-packages/keras/backend/tensorflow_backend.py:1033: The name tf.assign_add is deprecated. Please use tf.compat.v1.assign_add instead.\n",
            "\n",
            "WARNING:tensorflow:From /usr/local/lib/python3.6/dist-packages/keras/backend/tensorflow_backend.py:1020: The name tf.assign is deprecated. Please use tf.compat.v1.assign instead.\n",
            "\n",
            "WARNING:tensorflow:From /usr/local/lib/python3.6/dist-packages/keras/backend/tensorflow_backend.py:3005: The name tf.Session is deprecated. Please use tf.compat.v1.Session instead.\n",
            "\n",
            "Epoch 1/15\n",
            "WARNING:tensorflow:From /usr/local/lib/python3.6/dist-packages/keras/backend/tensorflow_backend.py:190: The name tf.get_default_session is deprecated. Please use tf.compat.v1.get_default_session instead.\n",
            "\n",
            "WARNING:tensorflow:From /usr/local/lib/python3.6/dist-packages/keras/backend/tensorflow_backend.py:197: The name tf.ConfigProto is deprecated. Please use tf.compat.v1.ConfigProto instead.\n",
            "\n",
            "WARNING:tensorflow:From /usr/local/lib/python3.6/dist-packages/keras/backend/tensorflow_backend.py:207: The name tf.global_variables is deprecated. Please use tf.compat.v1.global_variables instead.\n",
            "\n",
            "WARNING:tensorflow:From /usr/local/lib/python3.6/dist-packages/keras/backend/tensorflow_backend.py:216: The name tf.is_variable_initialized is deprecated. Please use tf.compat.v1.is_variable_initialized instead.\n",
            "\n",
            "WARNING:tensorflow:From /usr/local/lib/python3.6/dist-packages/keras/backend/tensorflow_backend.py:223: The name tf.variables_initializer is deprecated. Please use tf.compat.v1.variables_initializer instead.\n",
            "\n",
            " - 14s - loss: 2.1956 - acc: 0.5490 - val_loss: 0.6283 - val_acc: 0.6420\n",
            "Epoch 2/15\n",
            " - 7s - loss: 0.5860 - acc: 0.6950 - val_loss: 0.6152 - val_acc: 0.6500\n",
            "Epoch 3/15\n",
            " - 7s - loss: 0.4796 - acc: 0.7810 - val_loss: 0.6196 - val_acc: 0.6610\n",
            "Epoch 4/15\n",
            " - 7s - loss: 0.3913 - acc: 0.8465 - val_loss: 0.6602 - val_acc: 0.6650\n",
            "Epoch 5/15\n",
            " - 7s - loss: 0.3158 - acc: 0.8910 - val_loss: 0.6540 - val_acc: 0.6610\n",
            "Epoch 6/15\n",
            " - 7s - loss: 0.2563 - acc: 0.9225 - val_loss: 0.6603 - val_acc: 0.6590\n",
            "Epoch 7/15\n",
            " - 7s - loss: 0.2069 - acc: 0.9480 - val_loss: 0.6498 - val_acc: 0.6750\n",
            "Epoch 8/15\n",
            " - 7s - loss: 0.1619 - acc: 0.9695 - val_loss: 0.9177 - val_acc: 0.6360\n",
            "Epoch 9/15\n",
            " - 7s - loss: 0.1290 - acc: 0.9700 - val_loss: 0.8238 - val_acc: 0.6580\n",
            "Epoch 10/15\n",
            " - 7s - loss: 0.0988 - acc: 0.9855 - val_loss: 1.0580 - val_acc: 0.5920\n",
            "Epoch 11/15\n",
            " - 7s - loss: 0.0812 - acc: 0.9845 - val_loss: 0.7424 - val_acc: 0.6770\n",
            "Epoch 12/15\n",
            " - 7s - loss: 0.0625 - acc: 0.9910 - val_loss: 0.9139 - val_acc: 0.6720\n",
            "Epoch 13/15\n",
            " - 7s - loss: 0.0561 - acc: 0.9890 - val_loss: 0.8075 - val_acc: 0.6760\n",
            "Epoch 14/15\n",
            " - 7s - loss: 0.0378 - acc: 0.9970 - val_loss: 0.9630 - val_acc: 0.6610\n",
            "Epoch 15/15\n",
            " - 7s - loss: 0.0376 - acc: 0.9925 - val_loss: 0.8514 - val_acc: 0.6820\n"
          ],
          "name": "stdout"
        },
        {
          "output_type": "display_data",
          "data": {
            "image/png": "[encoded data removed]",
            "text/plain": [
              "<Figure size 1152x576 with 2 Axes>"
            ]
          },
          "metadata": {
            "tags": []
          }
        }
      ]
    },
    {
      "cell_type": "markdown",
      "metadata": {
        "id": "x5ddmtEGqyHQ",
        "colab_type": "text"
      },
      "source": [
        "Il apprend bien mieux que le réseau précédent ! On arrive à 99% de précision sur le jeu de données d'entrainement ! \n",
        "\n",
        "Et pourtant, il arrive quelque chose d'étrange : la courbe de validation ne suit pas ... Au contraire, à partir d'un moment, plus on s'entraine, plus elle devient mauvaise. \n",
        "\n",
        "Il s'avère que notre réseau vient de commettre une grave erreur : il a fait de l'overfitting (sur-apprentissage, ou sur-interprétation en français). Il s'est spécialisé spécifiquement sur les données qu'il a dans on jeu d'entrainement, tellement qu'il n'arrive plus à bien généraliser sur des données similaires mais différentes ! \n"
      ]
    }
  ]
}